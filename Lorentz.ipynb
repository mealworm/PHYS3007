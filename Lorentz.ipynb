{
 "cells": [
  {
   "cell_type": "markdown",
   "metadata": {},
   "source": [
    "# Lorentz transformation\n",
    "In this lesson we will write and use functions for working with 4-vectors and Lorentz transformations."
   ]
  },
  {
   "cell_type": "markdown",
   "metadata": {},
   "source": [
    "## Pre-requisites\n",
    "First we need to load the modules we need. We can also check whether loading was succeful and the version of the imported module."
   ]
  },
  {
   "cell_type": "code",
   "execution_count": 19,
   "metadata": {},
   "outputs": [
    {
     "data": {
      "text/plain": [
       "'4.3.1'"
      ]
     },
     "execution_count": 19,
     "metadata": {},
     "output_type": "execute_result"
    }
   ],
   "source": [
    "import astropy\n",
    "astropy.__version__"
   ]
  },
  {
   "cell_type": "markdown",
   "metadata": {},
   "source": [
    "numpy is typically imported as np:"
   ]
  },
  {
   "cell_type": "code",
   "execution_count": 20,
   "metadata": {},
   "outputs": [
    {
     "data": {
      "text/plain": [
       "'1.20.3'"
      ]
     },
     "execution_count": 20,
     "metadata": {},
     "output_type": "execute_result"
    }
   ],
   "source": [
    "import numpy as np\n",
    "np.__version__"
   ]
  },
  {
   "cell_type": "markdown",
   "metadata": {},
   "source": [
    "We will use matplotlib for plotting:"
   ]
  },
  {
   "cell_type": "code",
   "execution_count": 21,
   "metadata": {},
   "outputs": [
    {
     "data": {
      "text/plain": [
       "'3.4.3'"
      ]
     },
     "execution_count": 21,
     "metadata": {},
     "output_type": "execute_result"
    }
   ],
   "source": [
    "import matplotlib\n",
    "matplotlib.__version__"
   ]
  },
  {
   "cell_type": "markdown",
   "metadata": {},
   "source": [
    "From the astropy module we need only the units and the constants, we will import them as u and c."
   ]
  },
  {
   "cell_type": "code",
   "execution_count": 22,
   "metadata": {},
   "outputs": [],
   "source": [
    "from astropy import units as u\n",
    "from astropy import constants as c"
   ]
  },
  {
   "cell_type": "markdown",
   "metadata": {},
   "source": [
    "We will now import the pylorentz module, which will allow us to define a general 4-vector class followed by 4-momentum and 4-position subclasses."
   ]
  },
  {
   "cell_type": "code",
   "execution_count": 23,
   "metadata": {},
   "outputs": [],
   "source": [
    "from pylorentz import Position4, Momentum4"
   ]
  },
  {
   "cell_type": "markdown",
   "metadata": {},
   "source": [
    "### Time dilation\n",
    "Let's use the 4-position vectors to examine time dilation."
   ]
  },
  {
   "cell_type": "code",
   "execution_count": 33,
   "metadata": {},
   "outputs": [
    {
     "name": "stdout",
     "output_type": "stream",
     "text": [
      "Position4(0, 0, 0, 0)\n",
      "Position4(1, 0, 1, 0)\n",
      "Position4(2, 0, 0, 0)\n",
      "Position4(0, 0, 0, 0)\n",
      "Position4(2.29416, -2.06474, 1, 0)\n",
      "Position4(4.58831, -4.12948, 0, 0)\n",
      "4.588314677411236\n",
      "2.294157338705618\n",
      "2.294157338705618\n"
     ]
    }
   ],
   "source": [
    "distance = 1\n",
    "beta = 0.9\n",
    "gamma = (1 - beta**2)**(-0.5)\n",
    "print, gamma\n",
    "\n",
    "Delta_t = 2 * distance\n",
    "\n",
    "Event0 = Position4(0,0,0,0)\n",
    "Event1 = Position4(0.5 * Delta_t, 0, distance, 0)\n",
    "Event2 = Position4(Delta_t, 0, 0, 0)\n",
    "print(repr(Event0))\n",
    "print(repr(Event1))\n",
    "print(repr(Event2))\n",
    "\n",
    "Event0_prime = Event0.boost(1,0,0,beta)\n",
    "print(repr(Event0_prime))\n",
    "Event1_prime = Event1.boost(1,0,0,beta)\n",
    "print(repr(Event1_prime))\n",
    "Event2_prime = Event2.boost(1,0,0,beta)\n",
    "print(repr(Event2_prime))\n",
    "\n",
    "Delta_t_prime = Event2_prime[0] - Event0_prime[0]\n",
    "print(Delta_t_prime)\n",
    "print(Delta_t_prime / Delta_t)\n",
    "print(gamma)"
   ]
  },
  {
   "cell_type": "markdown",
   "metadata": {},
   "source": [
    "### Velocity addition"
   ]
  },
  {
   "cell_type": "code",
   "execution_count": 39,
   "metadata": {},
   "outputs": [
    {
     "name": "stdout",
     "output_type": "stream",
     "text": [
      "0.8386278693775345\n"
     ]
    },
    {
     "data": {
      "text/plain": [
       "(<function print>, 0.6956521739130436)"
      ]
     },
     "execution_count": 39,
     "metadata": {},
     "output_type": "execute_result"
    }
   ],
   "source": [
    "v1 = 0.5\n",
    "gamma1 = (1-v1*v1)**(-0.5)\n",
    "v2 = 0.3\n",
    "gamma2 = (1-v2*v2)**(-0.5)\n",
    "\n",
    "p1 = Momentum4(gamma1,gamma1*v1,0,0)\n",
    "p3 = p1.boost(-1,0,0,beta=v2)\n",
    "\n",
    "print(p3[1]/p3[0])\n",
    "print,(v1+v2)/(1+v1*v2)"
   ]
  },
  {
   "cell_type": "markdown",
   "metadata": {},
   "source": [
    "## Particle Distributions (photons, electrons, protons)\n",
    "In this course we will not discuss photons of a single energy, but particle distributions of photons, electrons or protons. We will study the particles over several orders of magnitude in energy, let's say from 1 MeV (10⁶ eV) to 100 TeV (10¹⁴ eV). We will create a log space with 15 data points:"
   ]
  },
  {
   "cell_type": "markdown",
   "metadata": {},
   "source": [
    "We study non-thermal emission, so our photons will not follow a block-body spectrum but typically a power law. A power law has the following form:\n",
    "$$ F(E) = A \\times \\left( \\frac{E}{E_0} \\right)^{-\\Gamma} $$\n",
    "$A$ is the amplitude, i.e. the function's value at the reference energy $E_0$. $\\Gamma$ is called the spectral index. Note the minus sign in the exponent, so $\\Gamma$ is typically positive. We often use 1 TeV as reference energy:"
   ]
  },
  {
   "cell_type": "markdown",
   "metadata": {},
   "source": [
    "Let's define some example parameters:"
   ]
  },
  {
   "cell_type": "markdown",
   "metadata": {},
   "source": [
    "A power law is already defined in astropy. Let's make use of it."
   ]
  },
  {
   "cell_type": "markdown",
   "metadata": {},
   "source": [
    "Now we can call this function on our energy array defined above:"
   ]
  },
  {
   "cell_type": "markdown",
   "metadata": {},
   "source": [
    "### Plotting\n",
    "We will use pyplot from matplotlib to do some plotting. pyplot is usually imported as plt:"
   ]
  },
  {
   "cell_type": "markdown",
   "metadata": {},
   "source": [
    "Let's make a plot of our y value over our energy array:"
   ]
  },
  {
   "cell_type": "markdown",
   "metadata": {},
   "source": [
    "This looks a bit strange. Keep in mind that our energies span 14 orders of magnitude. Let's try to get the energy axis in log scale:"
   ]
  },
  {
   "cell_type": "markdown",
   "metadata": {},
   "source": [
    "Looks better already. But is our function really zero above an energy of 10^7 eV? Let's try a log-log plot:"
   ]
  },
  {
   "cell_type": "markdown",
   "metadata": {},
   "source": [
    "Looks good. We see that a power law is represented as a straight line in a log-log plot. Now let's add titles to the axes and a legend:"
   ]
  },
  {
   "cell_type": "markdown",
   "metadata": {},
   "source": [
    "You see that the y axis is in units TeV⁻¹. It is a differential particle number, how many particles are found in an infinitesimal small bin of with $dE$:\n",
    "$$\\frac{dN}{dE}(E).$$\n",
    "If you want to know how many particles are in the entire particle spectrum then you have to integrate over it:\n",
    "$$ N = \\int_{E_1}^{E_2} \\frac{dN}{dE}(E) dE.$$\n",
    "For a power law it is easy to do the integration analytically. But it may be difficult for more complicated spectra. We can use numpy for a numerical integration."
   ]
  },
  {
   "cell_type": "markdown",
   "metadata": {},
   "source": [
    "There are no units as this is simply a particle number. Keep in mind that the trapezoidal rule is not very accurate and depends on the number of points. Having more points would increase the accuracy. Other, more sophisticated integration modules exist for python."
   ]
  },
  {
   "cell_type": "markdown",
   "metadata": {},
   "source": [
    "Similarly we can calculate the total energy in the spectrum. We need to integrate over all energies:\n",
    "$$ E_{tot} = \\int_{E_1}^{E_2} E \\frac{dN}{dE}(E) dE.$$\n",
    "We can achieve this by multiplying the $y$ array with the energies array and then integrate."
   ]
  },
  {
   "cell_type": "markdown",
   "metadata": {},
   "source": [
    "### Exercise\n",
    "Make a plot of three power laws with indices 1.5, 2.0 and 2.5. Keep the amplitude as above. Do not forget the title on the x-axis and the legend. Calculate the number of particles and the total energy in each spectrum.\n",
    "\n",
    "**[3 marks]**"
   ]
  },
  {
   "cell_type": "markdown",
   "metadata": {},
   "source": [
    "## Cyclotron Frequency"
   ]
  },
  {
   "cell_type": "markdown",
   "metadata": {},
   "source": [
    "Here are some values fo an example. We will use the geo-magnetic field:"
   ]
  },
  {
   "cell_type": "markdown",
   "metadata": {},
   "source": [
    "The electron has one elementary charge, we do not care about the sign here:"
   ]
  },
  {
   "cell_type": "markdown",
   "metadata": {},
   "source": [
    "Let's put everything together:"
   ]
  },
  {
   "cell_type": "markdown",
   "metadata": {},
   "source": [
    "Depending on the system you are using the elementary charge has different values and units. So we have to be specific here. All calculations in this course are in standard units, so let's try this."
   ]
  },
  {
   "cell_type": "markdown",
   "metadata": {},
   "source": [
    "How many cycles per second? We have to devide by the angle of one full circle, $2\\pi$."
   ]
  },
  {
   "cell_type": "markdown",
   "metadata": {},
   "source": [
    "### Exercise"
   ]
  },
  {
   "cell_type": "markdown",
   "metadata": {},
   "source": [
    "We will need the cyclotron frequency more often. Please write a function which takes the magnetic field as first parameter, the \"atomic number\" of the particle (-1 for an electron, +1 for a proton, +2 for a Helium nucleus and so on) as 2nd parameter with -1 as default, and the mass as third parameter with the electron mass as default. Return the cyclotron frequency in Hz. Make sure that it is never negative!\n",
    "\n",
    "**[3 marks]**"
   ]
  },
  {
   "cell_type": "markdown",
   "metadata": {},
   "source": [
    "Let's test it:"
   ]
  },
  {
   "cell_type": "markdown",
   "metadata": {},
   "source": [
    "## Submission\n",
    "\n",
    "Before you submit your work you should make a few checks that everything works fine.\n",
    "\n",
    "1. Save your notebook as a PDF (File->Download As->PDF). This document will help you debugging in the next step.\n",
    "1. If PDF export does not work: You can do File->Print Preview and then print to a file.\n",
    "1. Restart the kernel and rerun the entire notebook (Kernel->Restart & Run All). This will delete all variables (but not your code) and rerun the notebook in one go. If this does not go through the endthen you have to fix it. You will see at which cell the run stopped. A common mistake is using a variable that is defined only at a later stage.\n",
    "1. You think you fixed everything? Redo step 2 (Kernel->Restart & Run All)\n",
    "\n",
    "You have to download and submit 2 files, the jupyter notebook and a pdf.\n",
    "- Jupyter notebook. File->Download As->Notebook (.ipynb). Save this file on your disk.\n",
    "- PDF file. File->Download As->PDF. Save this file on your disk.\n",
    "- If PDF export does not work. You can do File->Print Preview and then print to a file.\n",
    "\n",
    "Please submit the two files on Ulwazi."
   ]
  }
 ],
 "metadata": {
  "kernelspec": {
   "display_name": "Python 3",
   "language": "python",
   "name": "python3"
  },
  "language_info": {
   "codemirror_mode": {
    "name": "ipython",
    "version": 3
   },
   "file_extension": ".py",
   "mimetype": "text/x-python",
   "name": "python",
   "nbconvert_exporter": "python",
   "pygments_lexer": "ipython3",
   "version": "3.9.7"
  }
 },
 "nbformat": 4,
 "nbformat_minor": 4
}
