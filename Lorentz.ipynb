{
 "cells": [
  {
   "cell_type": "markdown",
   "metadata": {},
   "source": [
    "# Lorentz transformation\n",
    "In this lesson we will practice using the Lorentz transformation on position and momentum vectors."
   ]
  },
  {
   "cell_type": "markdown",
   "metadata": {},
   "source": [
    "## Pre-requisites\n",
    "First we need to load the modules we need. We can also check whether loading was succeful and the version of the imported module."
   ]
  },
  {
   "cell_type": "code",
   "execution_count": null,
   "metadata": {},
   "outputs": [],
   "source": [
    "import math\n",
    "from math import sqrt"
   ]
  },
  {
   "cell_type": "markdown",
   "metadata": {},
   "source": [
    "numpy is typically imported as np:"
   ]
  },
  {
   "cell_type": "code",
   "execution_count": null,
   "metadata": {},
   "outputs": [],
   "source": [
    "import numpy as np\n",
    "np.__version__"
   ]
  },
  {
   "cell_type": "markdown",
   "metadata": {},
   "source": [
    "We will use matplotlib for plotting:"
   ]
  },
  {
   "cell_type": "code",
   "execution_count": null,
   "metadata": {},
   "outputs": [],
   "source": [
    "import matplotlib.pyplot as plt "
   ]
  },
  {
   "cell_type": "markdown",
   "metadata": {},
   "source": [
    "We will now import the pylorentz module, which will allow us to define a general 4-vector class followed by 4-momentum and 4-position subclasses."
   ]
  },
  {
   "cell_type": "code",
   "execution_count": null,
   "metadata": {},
   "outputs": [],
   "source": [
    "from pylorentz import Position4, Momentum4"
   ]
  },
  {
   "cell_type": "markdown",
   "metadata": {},
   "source": [
    "## Space-time separation\n",
    "\n",
    "Recall the definition of space-time separation:\n",
    "$$ \\Delta s_{12}^2 = c(t_2 - t_1)^2 - (x_2 - x_1)^2 - (y_2 - y_1)^2 - (z_2 - z_1)^2 $$\n",
    "The `Vector4` class in `pylorentz` automatically includes the metric in the definition of the multiplication operator. So for two 4-vectors `x_1` and `x_2`, \n",
    "`Delta_s12_2 = (x_2 - x_1) * (x_2 - x_1) = (x_2 - x_1).mag2`\n",
    "\n",
    "Note that `pylorentz` assumes that $ c= 1 $."
   ]
  },
  {
   "cell_type": "code",
   "execution_count": null,
   "metadata": {},
   "outputs": [],
   "source": [
    "x_1 = Position4(0,0,0,0)\n",
    "x_2 = Position4(1,3,0,0)\n",
    "Delta_s12_2 = (x_2 - x_1) * (x_2 - x_1)\n",
    "print(Delta_s12_2)\n",
    "print((x_2-x_1).mag2)\n",
    "print((x_2[0]-x_1[0])**2 - (x_2[1]-x_1[1])**2 - (x_2[2]-x_1[2])**2 - (x_2[3]**2-x_1[3])**2)"
   ]
  },
  {
   "cell_type": "markdown",
   "metadata": {},
   "source": [
    "Is the separation between `x_1` and `x_2` space-like or time-like? Why?\n",
    "\n",
    "Write your answer here: [1 mark]"
   ]
  },
  {
   "cell_type": "markdown",
   "metadata": {},
   "source": [
    "Let's perform a Lorentz transform into the inertial system where the two events occur at the same time.\n",
    "To do this, we use the `boost` method. The first three coordinates specify the direction of the relative velocity between the two inertial systems. The final parameter specifies the magnitude of the velocity, either in terms of $ \\beta = v/c $ or $ \\gamma = \\frac{1}{\\sqrt{1-\\beta^2}}$.\n"
   ]
  },
  {
   "cell_type": "code",
   "execution_count": null,
   "metadata": {},
   "outputs": [],
   "source": [
    "beta = 1/3\n",
    "x_1_prime = x_1.boost(1,0,0,beta=beta)  \n",
    "print(x_1_prime)\n",
    "x_2_prime = x_2.boost(1,0,0,beta=beta)\n",
    "print(x_2_prime)"
   ]
  },
  {
   "cell_type": "markdown",
   "metadata": {},
   "source": [
    "Let's check that the Lorentz transform works the way we expect.\n",
    "$$ \\begin{pmatrix} x^{\\prime 0} & x^{\\prime 1} & x^{\\prime 2} & x^{\\prime 3} \\\\ \\end{pmatrix}\n",
    " = \\begin{pmatrix} \\gamma & -\\gamma\\beta & 0 & 0 \\\\ -\\gamma\\beta & \\gamma & 0 & 0 \\\\ 0 & 0 & 1 & 0 \\\\ 0 & 0 & 0 & 1 \\\\ \\end{pmatrix}\n",
    "   \\begin{pmatrix} x^0 \\\\ x^1 \\\\ x^2 \\\\ x^3 \\\\ \\end{pmatrix} $$"
   ]
  },
  {
   "cell_type": "code",
   "execution_count": null,
   "metadata": {},
   "outputs": [],
   "source": [
    "gamma = 1 / sqrt(1 - beta**2)\n",
    "print(gamma*x_2[0] - gamma * beta * x_2[1], \",\", - gamma * beta * x_2[0] + gamma * x_2[1], \",\", x_2[2], \",\", x_2[3])"
   ]
  },
  {
   "cell_type": "markdown",
   "metadata": {},
   "source": [
    "Let's calculate the space-time separation in the primed inertial system. Because space-time separation is invariant, they should be the same."
   ]
  },
  {
   "cell_type": "code",
   "execution_count": null,
   "metadata": {},
   "outputs": [],
   "source": [
    "Delta_s12_2_prime = (x_2_prime - x_1_prime) * (x_2_prime - x_1_prime)\n",
    "print(Delta_s12_2_prime)"
   ]
  },
  {
   "cell_type": "markdown",
   "metadata": {},
   "source": [
    "Repeat the above exercise for two 4-vectors with $ x_1 = (0,0,0,0), x_3 = (3,1,0,0),$ and $\\beta = 1/3 $. [5 marks]\n"
   ]
  },
  {
   "cell_type": "code",
   "execution_count": null,
   "metadata": {},
   "outputs": [],
   "source": [
    "### Your code here"
   ]
  },
  {
   "cell_type": "markdown",
   "metadata": {},
   "source": [
    "What is the difference in time betweeen the two events in the primed frame? \n",
    "\n",
    "Write your answer here: [1 mark]\n",
    "\n",
    "What is the difference in spatial position betweeen the two events in the primed frame? \n",
    "\n",
    "Write your answer here: [1 mark]\n",
    "\n",
    "What is the space-time separation between the two events? \n",
    "\n",
    "Write your answer here: [1 mark]\n",
    "\n",
    "Is the separation space-like or time-like?\n",
    "\n",
    "Write your answer here: [1 mark]"
   ]
  },
  {
   "cell_type": "markdown",
   "metadata": {},
   "source": [
    "### Minkowski diagram\n",
    "Let's plot the three events above on a Minkowski diagram. First we will define a class to display Minkowski diagrams. (You can just run the code and scroll down.)"
   ]
  },
  {
   "cell_type": "code",
   "execution_count": null,
   "metadata": {},
   "outputs": [],
   "source": [
    "savefigteller=0\n",
    "class Minkowski_diagram :\n",
    "    def __init__(self):\n",
    "        self.canvassize_x=12\n",
    "        self.canvassize_y=6\n",
    "        self.size_x=20\n",
    "        self.size_y=10\n",
    "        self.worldline_v=[]\n",
    "        self.worldline_x=[]\n",
    "        self.worldline_color=[]\n",
    "        self.worldline_time_axis=[]\n",
    "        self.worldline_time_null=[]\n",
    "        self.lightcircle_x=[]\n",
    "        self.lightcircle_t=[]\n",
    "        self.lightcircle_color=[]\n",
    "        self.spacetimehyperbola=[]\n",
    "        self.relativespeed=0\n",
    "    def LTX(self,x,t):\n",
    "        LT_x=(x-self.relativespeed*t)*1/math.sqrt(1-self.relativespeed**2)\n",
    "        return LT_x\n",
    "    def LTT(self,x,t):\n",
    "        LT_t=(t-self.relativespeed*x)*1/math.sqrt(1-self.relativespeed**2)\n",
    "        return LT_t\n",
    "    def ILTT(self,x,t,v):\n",
    "        ILT_t=t*math.sqrt(1-v**2)+v*x\n",
    "        return ILT_t\n",
    "    def ILTX(self,x,t,v):\n",
    "        ILT_x=x*math.sqrt(1-v**2)+v*t\n",
    "        return ILT_x\n",
    "    def define_spacetime_hyperbola(self,spacetime_distance_squared):\n",
    "        self.spacetimehyperbola.append(spacetime_distance_squared)\n",
    "    def define_wordline(self,x,v,color,axis,time_null):\n",
    "        self.worldline_v.append(v)\n",
    "        self.worldline_x.append(x)\n",
    "        self.worldline_color.append(color)\n",
    "        self.worldline_time_axis.append(axis)\n",
    "        self.worldline_time_null.append(time_null)\n",
    "    def define_lightcircle(self,t,x,color):\n",
    "        self.lightcircle_x.append(x)\n",
    "        self.lightcircle_t.append(t)\n",
    "        self.lightcircle_color.append(color)\n",
    "    def set_frame_of_reference(self,v):\n",
    "        self.relativespeed=v\n",
    "    def show(self):\n",
    "         global savefigteller\n",
    "         plt.rcParams[\"figure.figsize\"] = (self.canvassize_x,self.canvassize_y)\n",
    "         plt.xlim(-self.size_x/2,self.size_x/2)    \n",
    "         plt.ylim(0,self.size_y)\n",
    "         plt.xlabel('x ->')\n",
    "         plt.ylabel('t->')\n",
    "         gamma=1/math.sqrt(1-self.relativespeed**2)\n",
    "         data_x=[]\n",
    "         data_min_x=[]\n",
    "         data_y=[]\n",
    "         for t in range (0,self.size_y*25,1):\n",
    "             data_x.append(t/25)\n",
    "             data_min_x.append(-t/25)\n",
    "             data_y.append(t/25)\n",
    "         plt.scatter(data_x,data_y,c='y',s=1)\n",
    "         plt.scatter(data_min_x,data_y,c='y',s=1)\n",
    "         for i in range (len(self.spacetimehyperbola)):\n",
    "             data_x=[]\n",
    "             data_y=[]\n",
    "             if self.spacetimehyperbola[i]>0:\n",
    "                 for k in range (-self.size_x*4,self.size_x*4):\n",
    "                  data_x.append(k/4)\n",
    "                  data_y.append(math.sqrt(self.spacetimehyperbola[i]+(k/4)**2))\n",
    "             else:\n",
    "                 for k in range (0,self.size_y*4):\n",
    "                  data_y.append(k/4)\n",
    "                  data_x.append(math.sqrt(-self.spacetimehyperbola[i]+(k/4)**2))\n",
    "             plt.scatter(data_x,data_y,c=\"k\",s=2)\n",
    "         for i in range (len(self.worldline_v)):\n",
    "             data_x=[]\n",
    "             data_y=[]\n",
    "             if self.worldline_time_axis[i]=='yes':\n",
    "                 for k in range (-self.size_x,self.size_x):\n",
    "                   for l in range (0,5):\n",
    "                     j=k+l/20\n",
    "                     v=self.ILTT(j,self.worldline_time_null[i],self.worldline_v[i])\n",
    "                     x=self.LTX(j,v)\n",
    "                     t=self.LTT(j,v)\n",
    "                     data_x.append(x)\n",
    "                     data_y.append(t)\n",
    "                 plt.scatter(data_x,data_y,c=self.worldline_color[i],s=1)\n",
    "                 v=self.ILTT(-1,self.worldline_time_null[i],self.worldline_v[i])\n",
    "                 x=self.LTX(-1,v)\n",
    "                 t=self.LTT(-1,v)\n",
    "                 if (t<self.size_y) and (t>0):\n",
    "                  plt.text (x,t+0.1,'t='+str(self.worldline_time_null[i]))\n",
    "\n",
    "             t_max = self.LTT(self.worldline_x[i]+self.worldline_v[i]*self.size_y,self.size_y)   \n",
    "             data_x=[]\n",
    "             data_y=[]\n",
    "             for j in range (0,int(self.size_y*self.size_y/t_max*100),int(self.size_y*self.size_y/t_max*100/50)):\n",
    "                 t = self.LTT(self.worldline_x[i]+self.worldline_v[i]*j/100,j/100)   \n",
    "                 x = self.LTX(self.worldline_x[i]+self.worldline_v[i]*j/100,j/100)   \n",
    "                 data_x.append(x)\n",
    "                 data_y.append(t)\n",
    "             plt.scatter(data_x,data_y,c=self.worldline_color[i],s=1)\n",
    "             if self.worldline_x[i]==0 :\n",
    "                 plt.text (x,t+0.3,'v='+str(self.worldline_v[i])+\"c\")\n",
    "         for i in range (len(self.lightcircle_x)):\n",
    "             x=self.LTX(self.lightcircle_x[i],self.lightcircle_t[i])\n",
    "             t=self.LTT(self.lightcircle_x[i],self.lightcircle_t[i])\n",
    "             data_x=[]\n",
    "             data_min_x=[]\n",
    "             data_y=[]\n",
    "             for j in range (int(t*1000),self.size_y*1000,50):\n",
    "                 data_x.append(x+j/1000-t)\n",
    "                 data_min_x.append(x-j/1000+t)\n",
    "                 data_y.append(j/1000)\n",
    "             plt.scatter(data_x,data_y,c=self.lightcircle_color[i],s=1)\n",
    "             plt.scatter(data_min_x,data_y,c=self.lightcircle_color[i],s=1)\n",
    "             plt.scatter(x,t,marker=\"x\",c=\"k\")\n",
    "         plt.text (-self.size_x/2+1,0.5,'vref='+str(self.relativespeed)+\"c\")\n",
    "         fname = 'MIN%04d.png' % savefigteller\n",
    "         plt.savefig(fname)\n",
    "         savefigteller=savefigteller+1\n",
    "         plt.show()\n"
   ]
  },
  {
   "cell_type": "markdown",
   "metadata": {},
   "source": [
    "Let's use this class with our example events."
   ]
  },
  {
   "cell_type": "code",
   "execution_count": null,
   "metadata": {},
   "outputs": [],
   "source": [
    "M=Minkowski_diagram()\n",
    "M.define_lightcircle(0,0,'#fbfb00')\n",
    "M.define_lightcircle(1,3,'#fbfb00') \n",
    "M.define_lightcircle(3,1,'#fbfb00')\n",
    "M.show()"
   ]
  },
  {
   "cell_type": "markdown",
   "metadata": {},
   "source": [
    "What do the yellow lines represent? \n",
    "\n",
    "Write your answer here: [1 mark]"
   ]
  },
  {
   "cell_type": "markdown",
   "metadata": {},
   "source": [
    "Let's draw world lines for $\\beta = 0$."
   ]
  },
  {
   "cell_type": "code",
   "execution_count": null,
   "metadata": {},
   "outputs": [],
   "source": [
    "M.define_wordline(0,0,'m','no',1)\n",
    "M.define_wordline(0,0,'m','no',3)\n",
    "M.show()"
   ]
  },
  {
   "cell_type": "markdown",
   "metadata": {},
   "source": [
    "What is a worldline?\n",
    "\n",
    "Write your answer here: [1 mark]"
   ]
  },
  {
   "cell_type": "markdown",
   "metadata": {},
   "source": [
    "Let's add lines of simultaneity."
   ]
  },
  {
   "cell_type": "code",
   "execution_count": null,
   "metadata": {},
   "outputs": [],
   "source": [
    "M.worldline_time_axis[0]=\"yes\"\n",
    "M.worldline_time_axis[1]=\"yes\"\n",
    "M.show()"
   ]
  },
  {
   "cell_type": "markdown",
   "metadata": {},
   "source": [
    "What is a line of simultaneity?\n",
    "\n",
    "Write your answer here: [1 mark]"
   ]
  },
  {
   "cell_type": "markdown",
   "metadata": {},
   "source": [
    "Let's add world lines for $\\beta = 1/3$."
   ]
  },
  {
   "cell_type": "code",
   "execution_count": null,
   "metadata": {},
   "outputs": [],
   "source": [
    "M.define_wordline(0,1/3,'b','no',0)\n",
    "M.define_wordline(0,1/3,'b','no',2.82842712474619)\n",
    "\n",
    "M.show()"
   ]
  },
  {
   "cell_type": "markdown",
   "metadata": {},
   "source": [
    "What is the slope of this worldline? Why is it slanted with respect to the other one? [2 marks]\n",
    "\n",
    "Write your answer here: [2 marks]"
   ]
  },
  {
   "cell_type": "markdown",
   "metadata": {},
   "source": [
    "Now let's add the lines of simultaneity for $\\beta=1/3$."
   ]
  },
  {
   "cell_type": "code",
   "execution_count": null,
   "metadata": {},
   "outputs": [],
   "source": [
    "M.worldline_time_axis[2]=\"yes\"\n",
    "M.worldline_time_axis[3]=\"yes\"\n",
    "M.show()"
   ]
  },
  {
   "cell_type": "markdown",
   "metadata": {},
   "source": [
    "What is the slope of these lines?\n",
    "\n",
    "Write your answer here: [1 mark]"
   ]
  },
  {
   "cell_type": "markdown",
   "metadata": {},
   "source": [
    "Let's set the frame of reference (the one where the axes are perpendicular) to the primed frame."
   ]
  },
  {
   "cell_type": "code",
   "execution_count": null,
   "metadata": {},
   "outputs": [],
   "source": [
    "M.set_frame_of_reference(1/3)\n",
    "M.show() "
   ]
  },
  {
   "cell_type": "markdown",
   "metadata": {},
   "source": [
    "What are the new slopes of the unprimed worldline and lines of simultaneity?\n",
    "\n",
    "Write your answer here: [2 marks]"
   ]
  },
  {
   "cell_type": "markdown",
   "metadata": {},
   "source": [
    "Let's draw the hyperbolae of invariance (i.e. the curves of constant space-time separation)."
   ]
  },
  {
   "cell_type": "code",
   "execution_count": null,
   "metadata": {},
   "outputs": [],
   "source": [
    "M.define_spacetime_hyperbola(8)\n",
    "M.define_spacetime_hyperbola(-8)\n",
    "M.show()"
   ]
  },
  {
   "cell_type": "markdown",
   "metadata": {},
   "source": [
    "Now let's shift the frame of reference back to the unprimed frame."
   ]
  },
  {
   "cell_type": "code",
   "execution_count": null,
   "metadata": {},
   "outputs": [],
   "source": [
    "M.set_frame_of_reference(0)\n",
    "M.show() "
   ]
  },
  {
   "cell_type": "markdown",
   "metadata": {},
   "source": [
    "Notice that as the frame of reference shifts, the events stay on their respective hyperbolae as they move. Why?\n",
    "\n",
    "Write your answer here: [1 mark]"
   ]
  },
  {
   "cell_type": "markdown",
   "metadata": {},
   "source": [
    "Let's set the frame of reference to $\\beta = 2/3$. In this frame of reference, $x_2$ occurs before $x_1$. "
   ]
  },
  {
   "cell_type": "code",
   "execution_count": null,
   "metadata": {},
   "outputs": [],
   "source": [
    "M.set_frame_of_reference(2/3)\n",
    "M.show()"
   ]
  },
  {
   "cell_type": "markdown",
   "metadata": {},
   "source": [
    "Is there a frame of reference where $x_3$ occurs before $x_1$? Why or why not?\n",
    "\n",
    "Write your answer here [2 marks]:\n",
    "\n",
    "Is there a frame of reference where $x_1$ and $x_2$ occur at the same position? Why or why not?\n",
    "\n",
    "Write your answer here [2 marks]:\n"
   ]
  },
  {
   "cell_type": "markdown",
   "metadata": {},
   "source": [
    "### Time dilation\n",
    "Let's use the 4-position vectors to examine time dilation."
   ]
  },
  {
   "cell_type": "code",
   "execution_count": null,
   "metadata": {},
   "outputs": [],
   "source": [
    "distance = 1\n",
    "beta = 0.9\n",
    "gamma = (1 - beta**2)**(-0.5)\n",
    "print, gamma\n",
    "\n",
    "Delta_t = 2 * distance\n",
    "\n",
    "Event0 = Position4(0,0,0,0)\n",
    "Event1 = Position4(0.5 * Delta_t, 0, distance, 0)\n",
    "Event2 = Position4(Delta_t, 0, 0, 0)\n",
    "print(repr(Event0))\n",
    "print(repr(Event1))\n",
    "print(repr(Event2))\n",
    "\n",
    "Event0_prime = Event0.boost(1,0,0,beta)\n",
    "print(repr(Event0_prime))\n",
    "Event1_prime = Event1.boost(1,0,0,beta)\n",
    "print(repr(Event1_prime))\n",
    "Event2_prime = Event2.boost(1,0,0,beta)\n",
    "print(repr(Event2_prime))\n",
    "\n",
    "Delta_t_prime = Event2_prime[0] - Event0_prime[0]\n",
    "print(Delta_t_prime)\n",
    "print(Delta_t_prime / Delta_t)\n",
    "print(gamma)"
   ]
  },
  {
   "cell_type": "markdown",
   "metadata": {},
   "source": [
    "### Velocity addition"
   ]
  },
  {
   "cell_type": "code",
   "execution_count": null,
   "metadata": {},
   "outputs": [],
   "source": [
    "v1 = 0.5\n",
    "gamma1 = (1-v1*v1)**(-0.5)\n",
    "v2 = 0.3\n",
    "gamma2 = (1-v2*v2)**(-0.5)\n",
    "\n",
    "p1 = Momentum4(gamma1,gamma1*v1,0,0)\n",
    "p3 = p1.boost(-1,0,0,beta=v2)\n",
    "\n",
    "print(repr(p1), repr(p3))\n",
    "print(p3[1]/p3[0])\n",
    "print((v1+v2)/(1+v1*v2))"
   ]
  },
  {
   "cell_type": "markdown",
   "metadata": {},
   "source": [
    "## Inverse Compton Scattering\n"
   ]
  },
  {
   "cell_type": "code",
   "execution_count": null,
   "metadata": {},
   "outputs": [],
   "source": []
  },
  {
   "cell_type": "markdown",
   "metadata": {},
   "source": [
    "## Submission\n",
    "\n",
    "Before you submit your work you should make a few checks that everything works fine.\n",
    "\n",
    "1. Save your notebook as a PDF (File->Download As->PDF). This document will help you debugging in the next step.\n",
    "1. If PDF export does not work: You can do File->Print Preview and then print to a file.\n",
    "1. Restart the kernel and rerun the entire notebook (Kernel->Restart & Run All). This will delete all variables (but not your code) and rerun the notebook in one go. If this does not go through the endthen you have to fix it. You will see at which cell the run stopped. A common mistake is using a variable that is defined only at a later stage.\n",
    "1. You think you fixed everything? Redo step 2 (Kernel->Restart & Run All)\n",
    "\n",
    "You have to download and submit 2 files, the jupyter notebook and a pdf.\n",
    "- Jupyter notebook. File->Download As->Notebook (.ipynb). Save this file on your disk.\n",
    "- PDF file. File->Download As->PDF. Save this file on your disk.\n",
    "- If PDF export does not work. You can do File->Print Preview and then print to a file.\n",
    "\n",
    "Please submit the two files on Ulwazi."
   ]
  }
 ],
 "metadata": {
  "kernelspec": {
   "display_name": "Python 3",
   "language": "python",
   "name": "python3"
  },
  "language_info": {
   "codemirror_mode": {
    "name": "ipython",
    "version": 3
   },
   "file_extension": ".py",
   "mimetype": "text/x-python",
   "name": "python",
   "nbconvert_exporter": "python",
   "pygments_lexer": "ipython3",
   "version": "3.8.5"
  }
 },
 "nbformat": 4,
 "nbformat_minor": 4
}
