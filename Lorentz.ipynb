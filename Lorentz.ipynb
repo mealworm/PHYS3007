{
 "cells": [
  {
   "cell_type": "markdown",
   "metadata": {},
   "source": [
    "# Lorentz transformation\n",
    "In this lesson we will write and use functions for working with 4-vectors and Lorentz transformations."
   ]
  },
  {
   "cell_type": "markdown",
   "metadata": {},
   "source": [
    "## Pre-requisites\n",
    "First we need to load the modules we need. We can also check whether loading was succeful and the version of the imported module."
   ]
  },
  {
   "cell_type": "code",
   "execution_count": 11,
   "metadata": {},
   "outputs": [
    {
     "data": {
      "text/plain": [
       "'4.2.1'"
      ]
     },
     "execution_count": 11,
     "metadata": {},
     "output_type": "execute_result"
    }
   ],
   "source": [
    "import astropy\n",
    "astropy.__version__"
   ]
  },
  {
   "cell_type": "markdown",
   "metadata": {},
   "source": [
    "numpy is typically imported as np:"
   ]
  },
  {
   "cell_type": "code",
   "execution_count": 12,
   "metadata": {},
   "outputs": [
    {
     "data": {
      "text/plain": [
       "'1.20.1'"
      ]
     },
     "execution_count": 12,
     "metadata": {},
     "output_type": "execute_result"
    }
   ],
   "source": [
    "import numpy as np\n",
    "np.__version__"
   ]
  },
  {
   "cell_type": "markdown",
   "metadata": {},
   "source": [
    "We will use matplotlib for plotting:"
   ]
  },
  {
   "cell_type": "code",
   "execution_count": 13,
   "metadata": {},
   "outputs": [
    {
     "data": {
      "text/plain": [
       "'3.3.4'"
      ]
     },
     "execution_count": 13,
     "metadata": {},
     "output_type": "execute_result"
    }
   ],
   "source": [
    "import matplotlib\n",
    "matplotlib.__version__"
   ]
  },
  {
   "cell_type": "markdown",
   "metadata": {},
   "source": [
    "From the astropy module we need only the units and the constants, we will import them as u and c."
   ]
  },
  {
   "cell_type": "code",
   "execution_count": 14,
   "metadata": {},
   "outputs": [],
   "source": [
    "from astropy import units as u\n",
    "from astropy import constants as c"
   ]
  },
  {
   "cell_type": "markdown",
   "metadata": {},
   "source": [
    "We will now import the Abstract Base Class (abc) module, which will allow us to define a general 4-vector class followed by 4-momentum and 4-position subclasses."
   ]
  },
  {
   "cell_type": "code",
   "execution_count": 15,
   "metadata": {},
   "outputs": [],
   "source": [
    "import abc"
   ]
  },
  {
   "cell_type": "markdown",
   "metadata": {},
   "source": [
    "Let's import both the math module and the complex math module."
   ]
  },
  {
   "cell_type": "code",
   "execution_count": 16,
   "metadata": {},
   "outputs": [],
   "source": [
    "import cmath\n",
    "import math"
   ]
  },
  {
   "cell_type": "markdown",
   "metadata": {},
   "source": [
    "## 4-vectors"
   ]
  },
  {
   "cell_type": "markdown",
   "metadata": {},
   "source": [
    "Let's first define the Minkowski metric. We will take the time component as the 0th component with positive normalisation."
   ]
  },
  {
   "cell_type": "code",
   "execution_count": 17,
   "metadata": {},
   "outputs": [],
   "source": [
    "METRIC = np.diag([1, -1, -1, -1])  # This is a diagonal 4x4 matrix."
   ]
  },
  {
   "cell_type": "markdown",
   "metadata": {},
   "source": [
    "Let us now define the 4-vector class. The first method describes how to initialize the 4-vector."
   ]
  },
  {
   "cell_type": "code",
   "execution_count": 18,
   "metadata": {},
   "outputs": [],
   "source": [
    "class Vector4:\n",
    "    \"\"\"\n",
    "    Representation of a Lorentz 4-vector.\n",
    "    \"\"\"\n",
    "    def __init__(self, *x):\n",
    "        \"\"\"\n",
    "        Creates a new 4-vector. The arguments can be either the four\n",
    "        components or another 4-vector.\n",
    "\n",
    "        >>> Vector4(60, 2, 3, 4)\n",
    "        Vector4(60, 2, 3, 4)\n",
    "\n",
    "        >>> vec = Vector4(60, 1, 2, 3)\n",
    "        >>> Vector4(vec)\n",
    "        Vector4(60, 1, 2, 3)\n",
    "        \"\"\"\n",
    "        if len(x) == 1 and isinstance(x[0], Vector4):\n",
    "            x = x[0]\n",
    "            self._values = np.array(x.components)\n",
    "        elif len(x) == 4:\n",
    "            self._values = np.array(list(x))\n",
    "        else:\n",
    "            raise TypeError(\"4-vectors expects four values\")"
   ]
  },
  {
   "cell_type": "markdown",
   "metadata": {},
   "source": [
    "The next two methods define ways to display and to access the internal array of the 4-vector."
   ]
  },
  {
   "cell_type": "code",
   "execution_count": 19,
   "metadata": {},
   "outputs": [],
   "source": [
    "    def __repr__(self):\n",
    "        \"\"\"\n",
    "        Returns a string representation of the object.\n",
    "        \"\"\"\n",
    "        if self._values.ndim == 1:\n",
    "            pattern = \"%g\"\n",
    "        else:\n",
    "            pattern = \"%r\"\n",
    "\n",
    "        return \"%s(%s)\" % (self.__class__.__name__,\n",
    "                           \", \".join([pattern % _ for _ in self._values]))\n",
    "\n",
    "    @property\n",
    "    def components(self):\n",
    "        \"\"\"\n",
    "        Returns the interal array of all components.\n",
    "        \"\"\"\n",
    "        return self._values"
   ]
  },
  {
   "cell_type": "markdown",
   "metadata": {},
   "source": [
    "Definitions of mathematical operations."
   ]
  },
  {
   "cell_type": "code",
   "execution_count": 20,
   "metadata": {},
   "outputs": [],
   "source": [
    "    def __add__(self, other):\n",
    "        \"\"\"\n",
    "        Addition of two 4-vectors. Can only add vectors of the same type (or\n",
    "        subtype).\n",
    "\n",
    "        >>> a = Vector4(1, 2, 3, 4)\n",
    "        >>> b = Vector4(2, 4, 8, 16)\n",
    "        >>> a + b\n",
    "        Vector4(3, 6, 11, 20)\n",
    "        \"\"\"\n",
    "        vector = self.__class__(self)\n",
    "        vector += other\n",
    "        return vector\n",
    "\n",
    "    def __iadd__(self, other):\n",
    "        \"\"\"\n",
    "        In-place addition of two 4-vectors.\n",
    "\n",
    "        >>> a = Vector4(1, 2, 3, 4)\n",
    "        >>> b = Vector4(2, 4, 8, 16)\n",
    "        >>> b += a\n",
    "        >>> b\n",
    "        Vector4(3, 6, 11, 20)\n",
    "        \"\"\"\n",
    "        self._values = self.components + Vector4(*other).components\n",
    "        return self\n",
    "\n",
    "    def __sub__(self, other):\n",
    "        \"\"\"\n",
    "        Subtraction of two 4-vectors.\n",
    "\n",
    "        >>> a = Vector4(1, 2, 3, 4)\n",
    "        >>> a - b\n",
    "        Vector4(-3, -1, 1, 3)\n",
    "        \"\"\"\n",
    "        vector = self.__class__(self)\n",
    "        vector -= other\n",
    "        return vector\n",
    "\n",
    "    def __isub__(self, other):\n",
    "        \"\"\"\n",
    "        In-place subtraction of two 4-vectors.\n",
    "\n",
    "        >>> a = Vector4(1, 2, 3, 4)\n",
    "        >>> b = Vector4(4, 3, 2, 1)\n",
    "        >>> b -= a\n",
    "        >>> b\n",
    "        Vector4(-3, -1, 1, 3)\n",
    "        \"\"\"\n",
    "        self._values = self.components - Vector4(*other).components\n",
    "        return self\n",
    "\n",
    "    def __mul__(self, other):\n",
    "        \"\"\"\n",
    "        Multiplication of a 4-vector by a scalar or the dot product with\n",
    "        another 4-vector.\n",
    "        \"\"\"\n",
    "        if hasattr(other, \"__len__\") and len(other) == 4:\n",
    "            # Dot product\n",
    "            other = other.components\n",
    "            components = self.components\n",
    "\n",
    "            is_scalar = (other.ndim == 1) and (components.ndim == 1)\n",
    "\n",
    "            if other.ndim == 1:\n",
    "                other = other.reshape(other.shape[0], 1)\n",
    "            if components.ndim == 1:\n",
    "                components = components.reshape(components.shape[0], 1)\n",
    "\n",
    "            dot_product = (METRIC.dot(other) * components).sum(axis=0)\n",
    "            dot_product = dot_product.reshape(dot_product.size)\n",
    "\n",
    "            if is_scalar:\n",
    "                return dot_product[0]\n",
    "\n",
    "            return dot_product\n",
    "\n",
    "        vector = self.__class__(self)\n",
    "        vector *= other\n",
    "        return vector\n",
    "\n",
    "\n",
    "    def __rmul__(self, other):\n",
    "        \"\"\"\n",
    "        Multiplication of a 4-vector by a scalar from the left.\n",
    "        \"\"\"\n",
    "        return self * other\n",
    "\n",
    "    def __imul__(self, other):\n",
    "        \"\"\"\n",
    "        Multiplication of a 4-vector by a scalar from the left.\n",
    "        \"\"\"\n",
    "        if hasattr(other, \"__len__\") and len(other) != 1:\n",
    "            raise TypeError(\"In-place multiplication only possible for \"\n",
    "                            \"scalars.\")\n",
    "\n",
    "        self._values *= other\n",
    "        return self\n",
    "\n",
    "    def __neg__(self):\n",
    "        \"\"\"\n",
    "        Negate all components, equivalent to v * (-1)\n",
    "        \"\"\"\n",
    "        return (-1) * self\n",
    "\n",
    "    def __truediv__(self, other):\n",
    "        \"\"\"\n",
    "        Division of a 4-vector by a scalar from the left.\n",
    "        \"\"\"\n",
    "        vector = self.__class__(self)\n",
    "        vector /= other\n",
    "        return vector\n",
    "\n",
    "    def __floordiv__(self, other):\n",
    "        \"\"\"\n",
    "        Division of a 4-vector by a scalar from the left.\n",
    "        \"\"\"\n",
    "        vector = self.__class__(self)\n",
    "        vector //= other\n",
    "        return vector\n",
    "\n",
    "    def __ifloordiv__(self, other):\n",
    "        \"\"\"\n",
    "        In-place division of a 4-vector by a scalar.\n",
    "        \"\"\"\n",
    "        if hasattr(other, \"__len__\") and len(other) != 1:\n",
    "            raise TypeError(\"Division only possible by scalars.\")\n",
    "\n",
    "        # in-place div no always possible for numpy arrays depending on their\n",
    "        # type, i.e. cannot in-place convert int array to float\n",
    "        self._values = self._values // other\n",
    "        return self\n",
    "\n",
    "    def __itruediv__(self, other):\n",
    "        \"\"\"\n",
    "        In-place division of a 4-vector by a scalar.\n",
    "        \"\"\"\n",
    "        if hasattr(other, \"__len__\") and len(other) != 1:\n",
    "            raise TypeError(\"Division only possible by scalars.\")\n",
    "\n",
    "        # in-place div no always possible for numpy arrays depending on their\n",
    "        # type, i.e. cannot in-place convert int array to float\n",
    "        self._values = self._values / other\n",
    "        return self\n",
    "\n",
    "    def __div__(self, other):\n",
    "        \"\"\"\n",
    "        Legacy support\n",
    "        \"\"\"\n",
    "        return self.__truediv__(other)\n",
    "\n",
    "    def __idiv__(self, other):\n",
    "        \"\"\"\n",
    "        Legacy support\n",
    "        \"\"\"\n",
    "        return self.__itruediv__(other)\n"
   ]
  },
  {
   "cell_type": "markdown",
   "metadata": {},
   "source": [
    "Access to length and components of the 4-vector"
   ]
  },
  {
   "cell_type": "code",
   "execution_count": 36,
   "metadata": {},
   "outputs": [],
   "source": [
    "    def __len__(self):\n",
    "        \"\"\"\n",
    "        Returns 4, i.e. the length of the vector.\n",
    "        \"\"\"\n",
    "        return 4\n",
    "\n",
    "    def __iter__(self):\n",
    "        \"\"\"\n",
    "        Returns an iterator over all its values.\n",
    "        \"\"\"\n",
    "        return iter(self._values)\n",
    "\n",
    "    def __getitem__(self, i):\n",
    "        \"\"\"\n",
    "        Access to the components of the vector.\n",
    "        \"\"\"\n",
    "        return self._values[i]"
   ]
  },
  {
   "cell_type": "markdown",
   "metadata": {},
   "source": [
    "The magnitude and square of the magnitude."
   ]
  },
  {
   "cell_type": "code",
   "execution_count": 37,
   "metadata": {},
   "outputs": [],
   "source": [
    "    @property\n",
    "    def mag(self):\n",
    "        \"\"\"\n",
    "        Magnitude of vector.\n",
    "        \"\"\"\n",
    "        mag2 = np.asarray(self.mag2, dtype='complex')\n",
    "        mag = np.sqrt(mag2)\n",
    "        if (mag.imag == 0).all():\n",
    "            return mag.real\n",
    "\n",
    "        return mag\n",
    "\n",
    "    @property\n",
    "    def mag2(self):\n",
    "        \"\"\"\n",
    "        Square of magnitude of vector, i.e. the dot product with itself.\n",
    "        \"\"\"\n",
    "        return self * self"
   ]
  },
  {
   "cell_type": "markdown",
   "metadata": {},
   "source": [
    "The next method performs the Lorentz transformation for a general velocity vector without rotation. We will check to see that it gives the same result as the velocity addition formula when it is along the x-axis."
   ]
  },
  {
   "cell_type": "code",
   "execution_count": 42,
   "metadata": {},
   "outputs": [],
   "source": [
    "    # pylint: disable=too-many-arguments\n",
    "    def boost(self, x, y, z, beta=None, gamma=None):\n",
    "        \"\"\"\n",
    "        Boosts the 4-vector in the direction given by (x, y, z). The magnitude\n",
    "        of (x, y, z) is ignored. Exactly one of beta and gamma must be given.\n",
    "\n",
    "        The method returns the transformed 4-vector as measured in the frame\n",
    "        moving in (x, y, z) direction with velocity defined by beta or gamma.\n",
    "        This is the opposite of TLorentzVector::Boost().\n",
    "        \"\"\"\n",
    "        x = np.asarray(x)\n",
    "        y = np.asarray(y)\n",
    "        z = np.asarray(z)\n",
    "\n",
    "        if beta is None:\n",
    "            if gamma is None:\n",
    "                raise ValueError(\"beta and gamma cannot be both None\")\n",
    "            gamma = np.asarray(gamma)\n",
    "            beta = np.sqrt(1 - 1 / gamma**2)\n",
    "        else:\n",
    "            if gamma is not None:\n",
    "                raise ValueError(\"beta and gamma cannot be both not None\")\n",
    "            beta = np.asarray(beta)\n",
    "            gamma = 1 / np.sqrt(1 - beta**2)\n",
    "\n",
    "        shapes = [x.shape,\n",
    "                  beta.shape,\n",
    "                  gamma.shape,\n",
    "                  self.components[0].shape]\n",
    "\n",
    "        if not any(shapes):\n",
    "            lift_shape = []\n",
    "        else:\n",
    "            lengths = [s[0] for s in shapes if s and s[0] != 1]\n",
    "            if len(lengths) == 0:\n",
    "                dim_lift = 1\n",
    "            else:\n",
    "                lengths = set(lengths)\n",
    "                if len(lengths) != 1:\n",
    "                    raise ValueError(\"Incompatible boost dims: %s\" % lengths)\n",
    "                dim_lift = lengths.pop()\n",
    "\n",
    "            lift_shape = [dim_lift]\n",
    "\n",
    "        dim_lift = np.ones(lift_shape)\n",
    "\n",
    "        x = x * dim_lift\n",
    "        y = y * dim_lift\n",
    "        z = z * dim_lift\n",
    "\n",
    "        beta = beta * dim_lift\n",
    "        gamma = gamma * dim_lift\n",
    "\n",
    "        p = np.stack([x, y, z])\n",
    "        p = p / np.sqrt((p * p).sum(axis=0))\n",
    "\n",
    "        A = np.zeros([4, 4] + lift_shape)\n",
    "        A[1:, 1:, ] = p\n",
    "\n",
    "        A = (gamma - 1) * (A * A.swapaxes(0, 1))\n",
    "        A += np.tensordot(np.diag([0, 1, 1, 1]), dim_lift, axes=0)\n",
    "\n",
    "        bp = -beta * p\n",
    "\n",
    "        B = np.zeros([4, 4] + lift_shape)\n",
    "        B[0, 1:, ] = bp\n",
    "        B[1:, 0, ] = bp\n",
    "        B[0, 0, ] = 1\n",
    "\n",
    "        B = gamma * B\n",
    "\n",
    "        L = B + A\n",
    "\n",
    "        return self.__class__(*np.einsum('ij...,j...->i...', L, self.components))\n"
   ]
  },
  {
   "cell_type": "markdown",
   "metadata": {},
   "source": [
    "The next method uses the previous method to perform the Lorentz transformation when the relative velocity is given by the 4-momentum of a particle."
   ]
  },
  {
   "cell_type": "code",
   "execution_count": 43,
   "metadata": {},
   "outputs": [],
   "source": [
    "    def boost_particle(self, momentum):\n",
    "        \"\"\"\n",
    "        Performs a Lorentz transformation of the 4-vector. The boost is\n",
    "        specified by the 4-momentum of a particle (measured in the laboratory\n",
    "        frame). The transformation is from the particle rest frame into the\n",
    "        laboratory frame.\n",
    "\n",
    "        The method returns the transformed 4-vector.\n",
    "        \"\"\"\n",
    "        return self.boost(*(-momentum.components)[1:],\n",
    "                          gamma=momentum.e/momentum.m)\n"
   ]
  },
  {
   "cell_type": "markdown",
   "metadata": {},
   "source": [
    "Now let's define the 4-momentum as an instance of 4-vectors, with some special methods for initializing and getting special values (e.g. mass, 3-momentum etc.)"
   ]
  },
  {
   "cell_type": "code",
   "execution_count": 44,
   "metadata": {},
   "outputs": [],
   "source": [
    "class Momentum4(Vector4):\n",
    "    \"\"\"\n",
    "    Representation of 4-momenta.\n",
    "    \"\"\"\n",
    "    @staticmethod\n",
    "    def e_eta_phi_pt(e, eta, phi, p_t):\n",
    "        \"\"\"\n",
    "        Creates a new energy-momentum vector based on energy, pseudo-rapidity,\n",
    "        polar angle and transverse momentum.\n",
    "        \"\"\"\n",
    "        p_x = np.cos(phi) * p_t\n",
    "        p_y = np.sin(phi) * p_t\n",
    "        p_z = p_t / (np.tan(2*np.arctan(np.exp(-eta))))\n",
    "        return Momentum4(e, p_x, p_y, p_z)\n",
    "\n",
    "    @staticmethod\n",
    "    def m_eta_phi_pt(m, eta, phi, p_t):\n",
    "        \"\"\"\n",
    "        Creates a new energy-momentum vector based on mass, pseudo-rapidity,\n",
    "        polar angle and transverse momentum.\n",
    "        \"\"\"\n",
    "        p_x = np.cos(phi) * p_t\n",
    "        p_y = np.sin(phi) * p_t\n",
    "        p_z = p_t / (np.tan(2*np.arctan(np.exp(-eta))))\n",
    "        e = np.sqrt(m**2 + p_x**2 + p_y**2 + p_z**2)\n",
    "        return Momentum4(e, p_x, p_y, p_z)\n",
    "\n",
    "    @staticmethod\n",
    "    def m_eta_phi_p(m, eta, phi, p):\n",
    "        \"\"\"\n",
    "        Creates a new energy-momentum vector based on mass, pseudo-rapidity,\n",
    "        polar angle and momentum.\n",
    "        \"\"\"\n",
    "        theta = 2 * np.arctan(np.exp(-eta))\n",
    "        p_x = np.cos(phi) * np.sin(theta) * p\n",
    "        p_y = np.sin(phi) * np.sin(theta) * p\n",
    "        p_z = np.cos(theta) * p\n",
    "        e = np.sqrt(m**2 + p_x**2 + p_y**2 + p_z**2)\n",
    "        return Momentum4(e, p_x, p_y, p_z)\n",
    "\n",
    "    @staticmethod\n",
    "    def e_eta_phi_p(e, eta, phi, p):\n",
    "        \"\"\"\n",
    "        Creates a new energy-momentum vector based on energy, pseudo-rapidity,\n",
    "        polar angle and momentum.\n",
    "        \"\"\"\n",
    "        theta = 2 * np.arctan(np.exp(-eta))\n",
    "        p_x = np.cos(phi) * np.sin(theta) * p\n",
    "        p_y = np.sin(phi) * np.sin(theta) * p\n",
    "        p_z = np.cos(theta) * p\n",
    "        return Momentum4(e, p_x, p_y, p_z)\n",
    "\n",
    "    @staticmethod\n",
    "    def e_m_eta_phi(e, m, eta, phi):\n",
    "        \"\"\"\n",
    "        Creates a new energy-momentum vector based on energy, mass,\n",
    "        pseudo-rapidity and polar angle.\n",
    "        \"\"\"\n",
    "        p = np.sqrt(e**2 - m**2)\n",
    "        return Momentum4.e_eta_phi_p(e, eta, phi, p)\n",
    "\n",
    "    @property\n",
    "    def m(self):\n",
    "        \"\"\"\n",
    "        Returns the mass.\n",
    "        \"\"\"\n",
    "        return self.mag\n",
    "\n",
    "    @property\n",
    "    def m2(self):\n",
    "        \"\"\"\n",
    "        Returns the mass squared.\n",
    "        \"\"\"\n",
    "        return self.mag2\n",
    "\n",
    "    @property\n",
    "    def p(self):\n",
    "        \"\"\"\n",
    "        Returns the magnitude of the 3-momentum.\n",
    "        \"\"\"\n",
    "        return np.sqrt(self.p2)\n",
    "\n",
    "    @property\n",
    "    def p2(self):\n",
    "        \"\"\"\n",
    "        Returns the square of the magnitude of the 3-momentum.\n",
    "        \"\"\"\n",
    "        return self.p_x**2 + self.p_y**2 + self.p_z**2\n",
    "\n",
    "    @property\n",
    "    def p_x(self):\n",
    "        \"\"\"\n",
    "        Returns the x-component of the momentum.\n",
    "        \"\"\"\n",
    "        return self[1]\n",
    "\n",
    "    @property\n",
    "    def p_y(self):\n",
    "        \"\"\"\n",
    "        Returns the y-component of the momentum.\n",
    "        \"\"\"\n",
    "        return self[2]\n",
    "\n",
    "    @property\n",
    "    def p_z(self):\n",
    "        \"\"\"\n",
    "        Returns the y-component of the momentum.\n",
    "        \"\"\"\n",
    "        return self[3]\n",
    "\n",
    "    @property\n",
    "    def e(self):\n",
    "        \"\"\"\n",
    "        Returns the energy of the vector.\n",
    "        \"\"\"\n",
    "        return self[0]\n"
   ]
  },
  {
   "cell_type": "markdown",
   "metadata": {},
   "source": [
    "Let's do the same for the 4-position."
   ]
  },
  {
   "cell_type": "code",
   "execution_count": 45,
   "metadata": {},
   "outputs": [],
   "source": [
    "class Position4(Vector4):\n",
    "    \"\"\"\n",
    "    Representation of points in space-time.\n",
    "    \"\"\"\n",
    "\n",
    "    @property\n",
    "    def x(self):\n",
    "        \"\"\"\n",
    "        Returns the x component of the vector.\n",
    "        \"\"\"\n",
    "        return self[1]\n",
    "\n",
    "    @property\n",
    "    def y(self):\n",
    "        \"\"\"\n",
    "        Returns the y component of the vector.\n",
    "        \"\"\"\n",
    "        return self[2]\n",
    "\n",
    "    @property\n",
    "    def z(self):\n",
    "        \"\"\"\n",
    "        Returns the z component of the vector.\n",
    "        \"\"\"\n",
    "        return self[3]\n",
    "\n",
    "    @property\n",
    "    def t(self):\n",
    "        \"\"\"\n",
    "        Returns the t component of the vector.\n",
    "        \"\"\"\n",
    "        return self[0]\n"
   ]
  },
  {
   "cell_type": "markdown",
   "metadata": {},
   "source": [
    "### Time dilation\n",
    "Let's use the 4-position vectors to examine time dilation."
   ]
  },
  {
   "cell_type": "code",
   "execution_count": null,
   "metadata": {},
   "outputs": [],
   "source": [
    "distance = 1 * u.m\n",
    "beta = 0.9\n",
    "\n",
    "Delta_t = 2 * c.c * distance\n",
    "\n",
    "Event0 = Position4(0,0,0,0)\n",
    "Event1 = Position4(0.5 * Delta_t, 0, distance, 0)\n",
    "Event2 = Position4(Delta_t, 0, 0, 0)\n",
    "\n",
    "Event0_prime = Event0.boost(1,0,0,beta)\n",
    "Event0_prime\n",
    "Event1_prime = Event1.boost(1,0,0,beta)\n",
    "Event1_prime\n",
    "Event2_prime = Event2.boost(1,0,0,beta)\n",
    "Event2_prime\n",
    "\n",
    "Delta_t_prime = Event2_prime[0] - Event1_prime[0]\n",
    "Delta_t_prime\n",
    "Delta_t_prime / Delta_t\n"
   ]
  },
  {
   "cell_type": "markdown",
   "metadata": {},
   "source": [
    "## Particle Distributions (photons, electrons, protons)\n",
    "In this course we will not discuss photons of a single energy, but particle distributions of photons, electrons or protons. We will study the particles over several orders of magnitude in energy, let's say from 1 MeV (10⁶ eV) to 100 TeV (10¹⁴ eV). We will create a log space with 15 data points:"
   ]
  },
  {
   "cell_type": "markdown",
   "metadata": {},
   "source": [
    "We study non-thermal emission, so our photons will not follow a block-body spectrum but typically a power law. A power law has the following form:\n",
    "$$ F(E) = A \\times \\left( \\frac{E}{E_0} \\right)^{-\\Gamma} $$\n",
    "$A$ is the amplitude, i.e. the function's value at the reference energy $E_0$. $\\Gamma$ is called the spectral index. Note the minus sign in the exponent, so $\\Gamma$ is typically positive. We often use 1 TeV as reference energy:"
   ]
  },
  {
   "cell_type": "markdown",
   "metadata": {},
   "source": [
    "Let's define some example parameters:"
   ]
  },
  {
   "cell_type": "markdown",
   "metadata": {},
   "source": [
    "A power law is already defined in astropy. Let's make use of it."
   ]
  },
  {
   "cell_type": "markdown",
   "metadata": {},
   "source": [
    "Now we can call this function on our energy array defined above:"
   ]
  },
  {
   "cell_type": "markdown",
   "metadata": {},
   "source": [
    "### Plotting\n",
    "We will use pyplot from matplotlib to do some plotting. pyplot is usually imported as plt:"
   ]
  },
  {
   "cell_type": "markdown",
   "metadata": {},
   "source": [
    "Let's make a plot of our y value over our energy array:"
   ]
  },
  {
   "cell_type": "markdown",
   "metadata": {},
   "source": [
    "This looks a bit strange. Keep in mind that our energies span 14 orders of magnitude. Let's try to get the energy axis in log scale:"
   ]
  },
  {
   "cell_type": "markdown",
   "metadata": {},
   "source": [
    "Looks better already. But is our function really zero above an energy of 10^7 eV? Let's try a log-log plot:"
   ]
  },
  {
   "cell_type": "markdown",
   "metadata": {},
   "source": [
    "Looks good. We see that a power law is represented as a straight line in a log-log plot. Now let's add titles to the axes and a legend:"
   ]
  },
  {
   "cell_type": "markdown",
   "metadata": {},
   "source": [
    "You see that the y axis is in units TeV⁻¹. It is a differential particle number, how many particles are found in an infinitesimal small bin of with $dE$:\n",
    "$$\\frac{dN}{dE}(E).$$\n",
    "If you want to know how many particles are in the entire particle spectrum then you have to integrate over it:\n",
    "$$ N = \\int_{E_1}^{E_2} \\frac{dN}{dE}(E) dE.$$\n",
    "For a power law it is easy to do the integration analytically. But it may be difficult for more complicated spectra. We can use numpy for a numerical integration."
   ]
  },
  {
   "cell_type": "markdown",
   "metadata": {},
   "source": [
    "There are no units as this is simply a particle number. Keep in mind that the trapezoidal rule is not very accurate and depends on the number of points. Having more points would increase the accuracy. Other, more sophisticated integration modules exist for python."
   ]
  },
  {
   "cell_type": "markdown",
   "metadata": {},
   "source": [
    "Similarly we can calculate the total energy in the spectrum. We need to integrate over all energies:\n",
    "$$ E_{tot} = \\int_{E_1}^{E_2} E \\frac{dN}{dE}(E) dE.$$\n",
    "We can achieve this by multiplying the $y$ array with the energies array and then integrate."
   ]
  },
  {
   "cell_type": "markdown",
   "metadata": {},
   "source": [
    "### Exercise\n",
    "Make a plot of three power laws with indices 1.5, 2.0 and 2.5. Keep the amplitude as above. Do not forget the title on the x-axis and the legend. Calculate the number of particles and the total energy in each spectrum.\n",
    "\n",
    "**[3 marks]**"
   ]
  },
  {
   "cell_type": "markdown",
   "metadata": {},
   "source": [
    "## Cyclotron Frequency"
   ]
  },
  {
   "cell_type": "markdown",
   "metadata": {},
   "source": [
    "Here are some values fo an example. We will use the geo-magnetic field:"
   ]
  },
  {
   "cell_type": "markdown",
   "metadata": {},
   "source": [
    "The electron has one elementary charge, we do not care about the sign here:"
   ]
  },
  {
   "cell_type": "markdown",
   "metadata": {},
   "source": [
    "Let's put everything together:"
   ]
  },
  {
   "cell_type": "markdown",
   "metadata": {},
   "source": [
    "Depending on the system you are using the elementary charge has different values and units. So we have to be specific here. All calculations in this course are in standard units, so let's try this."
   ]
  },
  {
   "cell_type": "markdown",
   "metadata": {},
   "source": [
    "How many cycles per second? We have to devide by the angle of one full circle, $2\\pi$."
   ]
  },
  {
   "cell_type": "markdown",
   "metadata": {},
   "source": [
    "### Exercise"
   ]
  },
  {
   "cell_type": "markdown",
   "metadata": {},
   "source": [
    "We will need the cyclotron frequency more often. Please write a function which takes the magnetic field as first parameter, the \"atomic number\" of the particle (-1 for an electron, +1 for a proton, +2 for a Helium nucleus and so on) as 2nd parameter with -1 as default, and the mass as third parameter with the electron mass as default. Return the cyclotron frequency in Hz. Make sure that it is never negative!\n",
    "\n",
    "**[3 marks]**"
   ]
  },
  {
   "cell_type": "markdown",
   "metadata": {},
   "source": [
    "Let's test it:"
   ]
  },
  {
   "cell_type": "markdown",
   "metadata": {},
   "source": [
    "## Submission\n",
    "\n",
    "Before you submit your work you should make a few checks that everything works fine.\n",
    "\n",
    "1. Save your notebook as a PDF (File->Download As->PDF). This document will help you debugging in the next step.\n",
    "1. If PDF export does not work: You can do File->Print Preview and then print to a file.\n",
    "1. Restart the kernel and rerun the entire notebook (Kernel->Restart & Run All). This will delete all variables (but not your code) and rerun the notebook in one go. If this does not go through the endthen you have to fix it. You will see at which cell the run stopped. A common mistake is using a variable that is defined only at a later stage.\n",
    "1. You think you fixed everything? Redo step 2 (Kernel->Restart & Run All)\n",
    "\n",
    "You have to download and submit 2 files, the jupyter notebook and a pdf.\n",
    "- Jupyter notebook. File->Download As->Notebook (.ipynb). Save this file on your disk.\n",
    "- PDF file. File->Download As->PDF. Save this file on your disk.\n",
    "- If PDF export does not work. You can do File->Print Preview and then print to a file.\n",
    "\n",
    "Please submit the two files on Ulwazi."
   ]
  }
 ],
 "metadata": {
  "kernelspec": {
   "display_name": "Python 3",
   "language": "python",
   "name": "python3"
  },
  "language_info": {
   "codemirror_mode": {
    "name": "ipython",
    "version": 3
   },
   "file_extension": ".py",
   "mimetype": "text/x-python",
   "name": "python",
   "nbconvert_exporter": "python",
   "pygments_lexer": "ipython3",
   "version": "3.8.5"
  }
 },
 "nbformat": 4,
 "nbformat_minor": 4
}
