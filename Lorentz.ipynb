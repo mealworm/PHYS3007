{
 "cells": [
  {
   "cell_type": "markdown",
   "metadata": {},
   "source": [
    "# Lorentz transformation\n",
    "In this lesson we will write and use functions for working with 4-vectors and Lorentz transformations."
   ]
  },
  {
   "cell_type": "markdown",
   "metadata": {},
   "source": [
    "## Pre-requisites\n",
    "First we need to load the modules we need. We can also check whether loading was succeful and the version of the imported module."
   ]
  },
  {
   "cell_type": "code",
   "execution_count": 1,
   "metadata": {},
   "outputs": [
    {
     "data": {
      "text/plain": [
       "'4.2.1'"
      ]
     },
     "execution_count": 1,
     "metadata": {},
     "output_type": "execute_result"
    }
   ],
   "source": [
    "import astropy\n",
    "astropy.__version__"
   ]
  },
  {
   "cell_type": "markdown",
   "metadata": {},
   "source": [
    "numpy is typically imported as np:"
   ]
  },
  {
   "cell_type": "code",
   "execution_count": 2,
   "metadata": {},
   "outputs": [
    {
     "data": {
      "text/plain": [
       "'1.20.1'"
      ]
     },
     "execution_count": 2,
     "metadata": {},
     "output_type": "execute_result"
    }
   ],
   "source": [
    "import numpy as np\n",
    "np.__version__"
   ]
  },
  {
   "cell_type": "markdown",
   "metadata": {},
   "source": [
    "We will use matplotlib for plotting:"
   ]
  },
  {
   "cell_type": "code",
   "execution_count": 3,
   "metadata": {},
   "outputs": [
    {
     "data": {
      "text/plain": [
       "'3.3.4'"
      ]
     },
     "execution_count": 3,
     "metadata": {},
     "output_type": "execute_result"
    }
   ],
   "source": [
    "import matplotlib\n",
    "matplotlib.__version__"
   ]
  },
  {
   "cell_type": "markdown",
   "metadata": {},
   "source": [
    "From the astropy module we need only the units and the constants, we will import them as u and c."
   ]
  },
  {
   "cell_type": "code",
   "execution_count": 4,
   "metadata": {},
   "outputs": [],
   "source": [
    "from astropy import units as u\n",
    "from astropy import constants as c"
   ]
  },
  {
   "cell_type": "markdown",
   "metadata": {},
   "source": [
    "We will now import the Abstract Base Class (abc) module, which will allow us to define a general 4-vector class followed by 4-momentum and 4-position subclasses."
   ]
  },
  {
   "cell_type": "code",
   "execution_count": null,
   "metadata": {},
   "outputs": [],
   "source": [
    "import abc"
   ]
  },
  {
   "cell_type": "markdown",
   "metadata": {},
   "source": [
    "Let's import both the math module and the complex math module."
   ]
  },
  {
   "cell_type": "code",
   "execution_count": 5,
   "metadata": {},
   "outputs": [],
   "source": [
    "import cmath\n",
    "import math"
   ]
  },
  {
   "cell_type": "markdown",
   "metadata": {},
   "source": [
    "## 4-vectors"
   ]
  },
  {
   "cell_type": "markdown",
   "metadata": {},
   "source": [
    "Let's first define the Minkowski metric. We will take the time component as the 0th component with positive normalisation."
   ]
  },
  {
   "cell_type": "code",
   "execution_count": 6,
   "metadata": {},
   "outputs": [],
   "source": [
    "METRIC = np.diag([0, 0, 0, 0])  # This is a diagonal 4x4 matrix. Replace the 0s with the correct elements along the diagonal."
   ]
  },
  {
   "cell_type": "markdown",
   "metadata": {},
   "source": [
    "Let us now define the 4-vector class. The first method describes how to initialize the 4-vector."
   ]
  },
  {
   "cell_type": "code",
   "execution_count": null,
   "metadata": {},
   "outputs": [],
   "source": [
    "class Vector4:\n",
    "    \"\"\"\n",
    "    Representation of a Lorentz 4-vector.\n",
    "    \"\"\"\n",
    "    def __init__(self, *x):\n",
    "        \"\"\"\n",
    "        Creates a new 4-vector. The arguments can be either the four\n",
    "        components or another 4-vector.\n",
    "\n",
    "        >>> Vector4(60, 2, 3, 4)\n",
    "        Vector4(60, 2, 3, 4)\n",
    "\n",
    "        >>> vec = Vector4(60, 1, 2, 3)\n",
    "        >>> Vector4(vec)\n",
    "        Vector4(60, 1, 2, 3)\n",
    "        \"\"\"\n",
    "        if len(x) == 1 and isinstance(x[0], Vector4):\n",
    "            x = x[0]\n",
    "            self._values = np.array(x.components)\n",
    "        elif len(x) == 4:\n",
    "            self._values = np.array(list(x))\n",
    "        else:\n",
    "            raise TypeError(\"4-vectors expects four values\")"
   ]
  },
  {
   "cell_type": "markdown",
   "metadata": {},
   "source": [
    "The next two methods define ways to display and to access the components of the 4-vector."
   ]
  },
  {
   "cell_type": "code",
   "execution_count": null,
   "metadata": {},
   "outputs": [],
   "source": [
    "    def __repr__(self):\n",
    "        \"\"\"\n",
    "        Returns a string representation of the object.\n",
    "        \"\"\"\n",
    "        if self._values.ndim == 1:\n",
    "            pattern = \"%g\"\n",
    "        else:\n",
    "            pattern = \"%r\"\n",
    "\n",
    "        return \"%s(%s)\" % (self.__class__.__name__,\n",
    "                           \", \".join([pattern % _ for _ in self._values]))\n",
    "\n",
    "    @property\n",
    "    def components(self):\n",
    "        \"\"\"\n",
    "        Returns the interal array of all components.\n",
    "        \"\"\"\n",
    "        return self._values"
   ]
  },
  {
   "cell_type": "markdown",
   "metadata": {},
   "source": [
    "Definitions of mathematical operations."
   ]
  },
  {
   "cell_type": "code",
   "execution_count": null,
   "metadata": {},
   "outputs": [],
   "source": [
    "    def __add__(self, other):\n",
    "        \"\"\"\n",
    "        Addition of two 4-vectors. Can only add vectors of the same type (or\n",
    "        subtype).\n",
    "\n",
    "        >>> a = Vector4(1, 2, 3, 4)\n",
    "        >>> b = Vector4(2, 4, 8, 16)\n",
    "        >>> a + b\n",
    "        Vector4(3, 6, 11, 20)\n",
    "        \"\"\"\n",
    "        vector = self.__class__(self)\n",
    "        vector += other\n",
    "        return vector\n",
    "\n",
    "    def __iadd__(self, other):\n",
    "        \"\"\"\n",
    "        In-place addition of two 4-vectors.\n",
    "\n",
    "        >>> a = Vector4(1, 2, 3, 4)\n",
    "        >>> b = Vector4(2, 4, 8, 16)\n",
    "        >>> b += a\n",
    "        >>> b\n",
    "        Vector4(3, 6, 11, 20)\n",
    "        \"\"\"\n",
    "        self._values = self.components + Vector4(*other).components\n",
    "        return self\n",
    "\n",
    "    def __sub__(self, other):\n",
    "        \"\"\"\n",
    "        Subtraction of two 4-vectors.\n",
    "\n",
    "        >>> a = Vector4(1, 2, 3, 4)\n",
    "        >>> a - b\n",
    "        Vector4(-3, -1, 1, 3)\n",
    "        \"\"\"\n",
    "        vector = self.__class__(self)\n",
    "        vector -= other\n",
    "        return vector\n",
    "\n",
    "    def __isub__(self, other):\n",
    "        \"\"\"\n",
    "        In-place subtraction of two 4-vectors.\n",
    "\n",
    "        >>> a = Vector4(1, 2, 3, 4)\n",
    "        >>> b = Vector4(4, 3, 2, 1)\n",
    "        >>> b -= a\n",
    "        >>> b\n",
    "        Vector4(-3, -1, 1, 3)\n",
    "        \"\"\"\n",
    "        self._values = self.components - Vector4(*other).components\n",
    "        return self\n",
    "\n",
    "    def __mul__(self, other):\n",
    "        \"\"\"\n",
    "        Multiplication of a 4-vector by a scalar or the dot product with\n",
    "        another 4-vector.\n",
    "        \"\"\"\n",
    "        if hasattr(other, \"__len__\") and len(other) == 4:\n",
    "            # Dot product\n",
    "            other = other.components\n",
    "            components = self.components\n",
    "\n",
    "            is_scalar = (other.ndim == 1) and (components.ndim == 1)\n",
    "\n",
    "            if other.ndim == 1:\n",
    "                other = other.reshape(other.shape[0], 1)\n",
    "            if components.ndim == 1:\n",
    "                components = components.reshape(components.shape[0], 1)\n",
    "\n",
    "            dot_product = (METRIC.dot(other) * components).sum(axis=0)\n",
    "            dot_product = dot_product.reshape(dot_product.size)\n",
    "\n",
    "            if is_scalar:\n",
    "                return dot_product[0]\n",
    "\n",
    "            return dot_product\n",
    "\n",
    "        vector = self.__class__(self)\n",
    "        vector *= other\n",
    "        return vector\n",
    "\n",
    "\n",
    "    def __rmul__(self, other):\n",
    "        \"\"\"\n",
    "        Multiplication of a 4-vector by a scalar from the left.\n",
    "        \"\"\"\n",
    "        return self * other\n",
    "\n",
    "    def __imul__(self, other):\n",
    "        \"\"\"\n",
    "        Multiplication of a 4-vector by a scalar from the left.\n",
    "        \"\"\"\n",
    "        if hasattr(other, \"__len__\") and len(other) != 1:\n",
    "            raise TypeError(\"In-place multiplication only possible for \"\n",
    "                            \"scalars.\")\n",
    "\n",
    "        self._values *= other\n",
    "        return self\n",
    "\n",
    "    def __neg__(self):\n",
    "        \"\"\"\n",
    "        Negate all components, equivalent to v * (-1)\n",
    "        \"\"\"\n",
    "        return (-1) * self\n",
    "\n",
    "    def __truediv__(self, other):\n",
    "        \"\"\"\n",
    "        Division of a 4-vector by a scalar from the left.\n",
    "        \"\"\"\n",
    "        vector = self.__class__(self)\n",
    "        vector /= other\n",
    "        return vector\n",
    "\n",
    "    def __floordiv__(self, other):\n",
    "        \"\"\"\n",
    "        Division of a 4-vector by a scalar from the left.\n",
    "        \"\"\"\n",
    "        vector = self.__class__(self)\n",
    "        vector //= other\n",
    "        return vector\n",
    "\n",
    "    def __ifloordiv__(self, other):\n",
    "        \"\"\"\n",
    "        In-place division of a 4-vector by a scalar.\n",
    "        \"\"\"\n",
    "        if hasattr(other, \"__len__\") and len(other) != 1:\n",
    "            raise TypeError(\"Division only possible by scalars.\")\n",
    "\n",
    "        # in-place div no always possible for numpy arrays depending on their\n",
    "        # type, i.e. cannot in-place convert int array to float\n",
    "        self._values = self._values // other\n",
    "        return self\n",
    "\n",
    "    def __itruediv__(self, other):\n",
    "        \"\"\"\n",
    "        In-place division of a 4-vector by a scalar.\n",
    "        \"\"\"\n",
    "        if hasattr(other, \"__len__\") and len(other) != 1:\n",
    "            raise TypeError(\"Division only possible by scalars.\")\n",
    "\n",
    "        # in-place div no always possible for numpy arrays depending on their\n",
    "        # type, i.e. cannot in-place convert int array to float\n",
    "        self._values = self._values / other\n",
    "        return self\n",
    "\n",
    "    def __div__(self, other):\n",
    "        \"\"\"\n",
    "        Legacy support\n",
    "        \"\"\"\n",
    "        return self.__truediv__(other)\n",
    "\n",
    "    def __idiv__(self, other):\n",
    "        \"\"\"\n",
    "        Legacy support\n",
    "        \"\"\"\n",
    "        return self.__itruediv__(other)\n"
   ]
  },
  {
   "cell_type": "markdown",
   "metadata": {},
   "source": [
    "### Using numpy arrays and quantities\n",
    "Imagine you want to calculate the energies corresponding to many wavelengths. You can use arrays for that. Note that you cannot combine values with different units, even if they have the same dimension."
   ]
  },
  {
   "cell_type": "markdown",
   "metadata": {},
   "source": [
    "## Particle Distributions (photons, electrons, protons)\n",
    "In this course we will not discuss photons of a single energy, but particle distributions of photons, electrons or protons. We will study the particles over several orders of magnitude in energy, let's say from 1 MeV (10⁶ eV) to 100 TeV (10¹⁴ eV). We will create a log space with 15 data points:"
   ]
  },
  {
   "cell_type": "markdown",
   "metadata": {},
   "source": [
    "We study non-thermal emission, so our photons will not follow a block-body spectrum but typically a power law. A power law has the following form:\n",
    "$$ F(E) = A \\times \\left( \\frac{E}{E_0} \\right)^{-\\Gamma} $$\n",
    "$A$ is the amplitude, i.e. the function's value at the reference energy $E_0$. $\\Gamma$ is called the spectral index. Note the minus sign in the exponent, so $\\Gamma$ is typically positive. We often use 1 TeV as reference energy:"
   ]
  },
  {
   "cell_type": "markdown",
   "metadata": {},
   "source": [
    "Let's define some example parameters:"
   ]
  },
  {
   "cell_type": "markdown",
   "metadata": {},
   "source": [
    "A power law is already defined in astropy. Let's make use of it."
   ]
  },
  {
   "cell_type": "markdown",
   "metadata": {},
   "source": [
    "Now we can call this function on our energy array defined above:"
   ]
  },
  {
   "cell_type": "markdown",
   "metadata": {},
   "source": [
    "### Plotting\n",
    "We will use pyplot from matplotlib to do some plotting. pyplot is usually imported as plt:"
   ]
  },
  {
   "cell_type": "markdown",
   "metadata": {},
   "source": [
    "Let's make a plot of our y value over our energy array:"
   ]
  },
  {
   "cell_type": "markdown",
   "metadata": {},
   "source": [
    "This looks a bit strange. Keep in mind that our energies span 14 orders of magnitude. Let's try to get the energy axis in log scale:"
   ]
  },
  {
   "cell_type": "markdown",
   "metadata": {},
   "source": [
    "Looks better already. But is our function really zero above an energy of 10^7 eV? Let's try a log-log plot:"
   ]
  },
  {
   "cell_type": "markdown",
   "metadata": {},
   "source": [
    "Looks good. We see that a power law is represented as a straight line in a log-log plot. Now let's add titles to the axes and a legend:"
   ]
  },
  {
   "cell_type": "markdown",
   "metadata": {},
   "source": [
    "You see that the y axis is in units TeV⁻¹. It is a differential particle number, how many particles are found in an infinitesimal small bin of with $dE$:\n",
    "$$\\frac{dN}{dE}(E).$$\n",
    "If you want to know how many particles are in the entire particle spectrum then you have to integrate over it:\n",
    "$$ N = \\int_{E_1}^{E_2} \\frac{dN}{dE}(E) dE.$$\n",
    "For a power law it is easy to do the integration analytically. But it may be difficult for more complicated spectra. We can use numpy for a numerical integration."
   ]
  },
  {
   "cell_type": "markdown",
   "metadata": {},
   "source": [
    "There are no units as this is simply a particle number. Keep in mind that the trapezoidal rule is not very accurate and depends on the number of points. Having more points would increase the accuracy. Other, more sophisticated integration modules exist for python."
   ]
  },
  {
   "cell_type": "markdown",
   "metadata": {},
   "source": [
    "Similarly we can calculate the total energy in the spectrum. We need to integrate over all energies:\n",
    "$$ E_{tot} = \\int_{E_1}^{E_2} E \\frac{dN}{dE}(E) dE.$$\n",
    "We can achieve this by multiplying the $y$ array with the energies array and then integrate."
   ]
  },
  {
   "cell_type": "markdown",
   "metadata": {},
   "source": [
    "### Exercise\n",
    "Make a plot of three power laws with indices 1.5, 2.0 and 2.5. Keep the amplitude as above. Do not forget the title on the x-axis and the legend. Calculate the number of particles and the total energy in each spectrum.\n",
    "\n",
    "**[3 marks]**"
   ]
  },
  {
   "cell_type": "markdown",
   "metadata": {},
   "source": [
    "## Cyclotron Frequency"
   ]
  },
  {
   "cell_type": "markdown",
   "metadata": {},
   "source": [
    "Here are some values fo an example. We will use the geo-magnetic field:"
   ]
  },
  {
   "cell_type": "markdown",
   "metadata": {},
   "source": [
    "The electron has one elementary charge, we do not care about the sign here:"
   ]
  },
  {
   "cell_type": "markdown",
   "metadata": {},
   "source": [
    "Let's put everything together:"
   ]
  },
  {
   "cell_type": "markdown",
   "metadata": {},
   "source": [
    "Depending on the system you are using the elementary charge has different values and units. So we have to be specific here. All calculations in this course are in standard units, so let's try this."
   ]
  },
  {
   "cell_type": "markdown",
   "metadata": {},
   "source": [
    "How many cycles per second? We have to devide by the angle of one full circle, $2\\pi$."
   ]
  },
  {
   "cell_type": "markdown",
   "metadata": {},
   "source": [
    "### Exercise"
   ]
  },
  {
   "cell_type": "markdown",
   "metadata": {},
   "source": [
    "We will need the cyclotron frequency more often. Please write a function which takes the magnetic field as first parameter, the \"atomic number\" of the particle (-1 for an electron, +1 for a proton, +2 for a Helium nucleus and so on) as 2nd parameter with -1 as default, and the mass as third parameter with the electron mass as default. Return the cyclotron frequency in Hz. Make sure that it is never negative!\n",
    "\n",
    "**[3 marks]**"
   ]
  },
  {
   "cell_type": "markdown",
   "metadata": {},
   "source": [
    "Let's test it:"
   ]
  },
  {
   "cell_type": "markdown",
   "metadata": {},
   "source": [
    "## Submission\n",
    "\n",
    "Before you submit your work you should make a few checks that everything works fine.\n",
    "\n",
    "1. Save your notebook as a PDF (File->Download As->PDF). This document will help you debugging in the next step.\n",
    "1. If PDF export does not work: You can do File->Print Preview and then print to a file.\n",
    "1. Restart the kernel and rerun the entire notebook (Kernel->Restart & Run All). This will delete all variables (but not your code) and rerun the notebook in one go. If this does not go through the endthen you have to fix it. You will see at which cell the run stopped. A common mistake is using a variable that is defined only at a later stage.\n",
    "1. You think you fixed everything? Redo step 2 (Kernel->Restart & Run All)\n",
    "\n",
    "You have to download and submit 2 files, the jupyter notebook and a pdf.\n",
    "- Jupyter notebook. File->Download As->Notebook (.ipynb). Save this file on your disk.\n",
    "- PDF file. File->Download As->PDF. Save this file on your disk.\n",
    "- If PDF export does not work. You can do File->Print Preview and then print to a file.\n",
    "\n",
    "Please submit the two files on Ulwazi."
   ]
  }
 ],
 "metadata": {
  "kernelspec": {
   "display_name": "Python 3",
   "language": "python",
   "name": "python3"
  },
  "language_info": {
   "codemirror_mode": {
    "name": "ipython",
    "version": 3
   },
   "file_extension": ".py",
   "mimetype": "text/x-python",
   "name": "python",
   "nbconvert_exporter": "python",
   "pygments_lexer": "ipython3",
   "version": "3.8.5"
  }
 },
 "nbformat": 4,
 "nbformat_minor": 4
}
